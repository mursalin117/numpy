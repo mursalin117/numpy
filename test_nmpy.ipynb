{
 "cells": [
  {
   "cell_type": "code",
   "execution_count": 1,
   "id": "6447acef-7f0e-45f1-a982-43952f0a3e55",
   "metadata": {},
   "outputs": [],
   "source": [
    "# Task-1: Import the numpy package under the name np\n",
    "\n",
    "import numpy as np"
   ]
  },
  {
   "cell_type": "code",
   "execution_count": 5,
   "id": "eb234b47-6e80-499e-a2be-8ce01f7565ea",
   "metadata": {},
   "outputs": [
    {
     "name": "stdout",
     "output_type": "stream",
     "text": [
      "1.20.1\n",
      "blas_mkl_info:\n",
      "    libraries = ['mkl_rt', 'pthread']\n",
      "    library_dirs = ['/home/mursalin/anaconda3/lib']\n",
      "    define_macros = [('SCIPY_MKL_H', None), ('HAVE_CBLAS', None)]\n",
      "    include_dirs = ['/home/mursalin/anaconda3/include']\n",
      "blas_opt_info:\n",
      "    libraries = ['mkl_rt', 'pthread']\n",
      "    library_dirs = ['/home/mursalin/anaconda3/lib']\n",
      "    define_macros = [('SCIPY_MKL_H', None), ('HAVE_CBLAS', None)]\n",
      "    include_dirs = ['/home/mursalin/anaconda3/include']\n",
      "lapack_mkl_info:\n",
      "    libraries = ['mkl_rt', 'pthread']\n",
      "    library_dirs = ['/home/mursalin/anaconda3/lib']\n",
      "    define_macros = [('SCIPY_MKL_H', None), ('HAVE_CBLAS', None)]\n",
      "    include_dirs = ['/home/mursalin/anaconda3/include']\n",
      "lapack_opt_info:\n",
      "    libraries = ['mkl_rt', 'pthread']\n",
      "    library_dirs = ['/home/mursalin/anaconda3/lib']\n",
      "    define_macros = [('SCIPY_MKL_H', None), ('HAVE_CBLAS', None)]\n",
      "    include_dirs = ['/home/mursalin/anaconda3/include']\n",
      "None\n"
     ]
    }
   ],
   "source": [
    "# Task-2: Print the numpy version and the configuration\n",
    "\n",
    "print(np.__version__)\n",
    "print(np.show_config())"
   ]
  },
  {
   "cell_type": "code",
   "execution_count": 7,
   "id": "4b72e25f-5f82-4ff9-b8a2-a6db6086beea",
   "metadata": {},
   "outputs": [
    {
     "name": "stdout",
     "output_type": "stream",
     "text": [
      "[0. 0. 0. 0. 0. 0. 0. 0. 0. 0.]\n"
     ]
    }
   ],
   "source": [
    "# Task-3: Create a null vector of size 10\n",
    "# Creating an vector ---> np.array(list_name), when the list is given\n",
    "\n",
    "null_vector = np.zeros(10)\n",
    "print(null_vector)"
   ]
  },
  {
   "cell_type": "code",
   "execution_count": 13,
   "id": "b18b31ba-5fc3-44f7-84f3-c3a3db4baf74",
   "metadata": {},
   "outputs": [
    {
     "name": "stdout",
     "output_type": "stream",
     "text": [
      "10\n",
      "8\n",
      "80 byte\n"
     ]
    }
   ],
   "source": [
    "# Task-4: How to find the memory size of any array\n",
    "\n",
    "print(null_vector.size) # size of the array\n",
    "print(null_vector.itemsize) # memory located for an item\n",
    "print(\"%d bytes\" % (null_vector.size * null_vector.itemsize))"
   ]
  },
  {
   "cell_type": "code",
   "execution_count": 14,
   "id": "0aae84e9-59c6-4ac8-9cb5-781b08980f3f",
   "metadata": {},
   "outputs": [
    {
     "name": "stdout",
     "output_type": "stream",
     "text": [
      "add(x1, x2, /, out=None, *, where=True, casting='same_kind', order='K', dtype=None, subok=True[, signature, extobj])\n",
      "\n",
      "Add arguments element-wise.\n",
      "\n",
      "Parameters\n",
      "----------\n",
      "x1, x2 : array_like\n",
      "    The arrays to be added.\n",
      "    If ``x1.shape != x2.shape``, they must be broadcastable to a common\n",
      "    shape (which becomes the shape of the output).\n",
      "out : ndarray, None, or tuple of ndarray and None, optional\n",
      "    A location into which the result is stored. If provided, it must have\n",
      "    a shape that the inputs broadcast to. If not provided or None,\n",
      "    a freshly-allocated array is returned. A tuple (possible only as a\n",
      "    keyword argument) must have length equal to the number of outputs.\n",
      "where : array_like, optional\n",
      "    This condition is broadcast over the input. At locations where the\n",
      "    condition is True, the `out` array will be set to the ufunc result.\n",
      "    Elsewhere, the `out` array will retain its original value.\n",
      "    Note that if an uninitialized `out` array is created via the default\n",
      "    ``out=None``, locations within it where the condition is False will\n",
      "    remain uninitialized.\n",
      "**kwargs\n",
      "    For other keyword-only arguments, see the\n",
      "    :ref:`ufunc docs <ufuncs.kwargs>`.\n",
      "\n",
      "Returns\n",
      "-------\n",
      "add : ndarray or scalar\n",
      "    The sum of `x1` and `x2`, element-wise.\n",
      "    This is a scalar if both `x1` and `x2` are scalars.\n",
      "\n",
      "Notes\n",
      "-----\n",
      "Equivalent to `x1` + `x2` in terms of array broadcasting.\n",
      "\n",
      "Examples\n",
      "--------\n",
      ">>> np.add(1.0, 4.0)\n",
      "5.0\n",
      ">>> x1 = np.arange(9.0).reshape((3, 3))\n",
      ">>> x2 = np.arange(3.0)\n",
      ">>> np.add(x1, x2)\n",
      "array([[  0.,   2.,   4.],\n",
      "       [  3.,   5.,   7.],\n",
      "       [  6.,   8.,  10.]])\n",
      "\n",
      "The ``+`` operator can be used as a shorthand for ``np.add`` on ndarrays.\n",
      "\n",
      ">>> x1 = np.arange(9.0).reshape((3, 3))\n",
      ">>> x2 = np.arange(3.0)\n",
      ">>> x1 + x2\n",
      "array([[ 0.,  2.,  4.],\n",
      "       [ 3.,  5.,  7.],\n",
      "       [ 6.,  8., 10.]])\n",
      "None\n"
     ]
    }
   ],
   "source": [
    "# Task-5: How to get the documentation of the numpy add function from the command line?\n",
    "# >>> import numpy as np\n",
    "# >>> print(np.info(np.add))\n",
    "\n",
    "print(np.info(np.add))"
   ]
  },
  {
   "cell_type": "code",
   "execution_count": 15,
   "id": "f0a09f62-b2ae-41fc-9a17-0e7cae3ff2a5",
   "metadata": {},
   "outputs": [
    {
     "name": "stdout",
     "output_type": "stream",
     "text": [
      "1.0\n",
      "[0. 0. 0. 0. 1. 0. 0. 0. 0. 0.]\n"
     ]
    }
   ],
   "source": [
    "# Task-6: Create a null vector of size 10 but the fifth value which is 1 \n",
    "\n",
    "nv = np.zeros(10)\n",
    "nv[4] = 1\n",
    "print(nv[4])\n",
    "print(nv)"
   ]
  },
  {
   "cell_type": "code",
   "execution_count": 40,
   "id": "396b24c3-ec88-417a-adda-431169cdfb32",
   "metadata": {},
   "outputs": [
    {
     "name": "stdout",
     "output_type": "stream",
     "text": [
      "[10 11 12 13 14 15 16 17 18 19 20 21 22 23 24 25 26 27 28 29 30 31 32 33\n",
      " 34 35 36 37 38 39 40 41 42 43 44 45 46 47 48 49]\n",
      "[10 11 12 13 14 15 16 17 18 19 20 21 22 23 24 25 26 27 28 29 30 31 32 33\n",
      " 34 35 36 37 38 39 40 41 42 43 44 45 46 47 48 49]\n"
     ]
    }
   ],
   "source": [
    "# Task-7: Create a vector with values ranging from 10 to 49\n",
    "\n",
    "n = [i+10 for i in range(40)]\n",
    "# for i in n[0:40:1]:\n",
    "#     print(n[i])\n",
    "vec1 = np.array(n)\n",
    "print(vec1)\n",
    "\n",
    "vec2 = np.arange(10, 50)\n",
    "print(vec2)"
   ]
  },
  {
   "cell_type": "code",
   "execution_count": 49,
   "id": "b3b46e91-6901-4b95-8efa-e62623ddd4f6",
   "metadata": {},
   "outputs": [
    {
     "name": "stdout",
     "output_type": "stream",
     "text": [
      "[49 48 47 46 45 44 43 42 41 40 39 38 37 36 35 34 33 32 31 30 29 28 27 26\n",
      " 25 24 23 22 21 20 19 18 17 16 15 14 13 12 11 10]\n",
      "[]\n"
     ]
    }
   ],
   "source": [
    "# Task-8: Reverse a vector (first element becomes last)\n",
    "\n",
    "vec1 = vec1[::-1]\n",
    "print(vec1)\n",
    "\n",
    "vec3 = vec1[10:20:2] # only positive value supported ::+ve\n",
    "print(vec3)"
   ]
  },
  {
   "cell_type": "code",
   "execution_count": 53,
   "id": "55c09e91-5b07-4ff7-8e8a-a95feb766ffa",
   "metadata": {},
   "outputs": [
    {
     "name": "stdout",
     "output_type": "stream",
     "text": [
      "[0 1 2 3 4 5 6 7 8]\n",
      "[[0 1 2]\n",
      " [3 4 5]\n",
      " [6 7 8]]\n",
      "[[0 1 2]\n",
      " [3 4 5]\n",
      " [6 7 8]]\n"
     ]
    }
   ],
   "source": [
    "# Task-9: Create a 3x3 matrix with values ranging from 0 to 8\n",
    "\n",
    "mat1 = np.arange(0, 9)\n",
    "print(mat1)\n",
    "mat1 = mat1.reshape(3, 3)\n",
    "print(mat1)\n",
    "\n",
    "mat2 = np.arange(0, 9).reshape(3, 3)\n",
    "print(mat2)"
   ]
  },
  {
   "cell_type": "code",
   "execution_count": 56,
   "id": "d0fb5f24-4c9e-4870-a461-dd5bf882c33a",
   "metadata": {},
   "outputs": [
    {
     "name": "stdout",
     "output_type": "stream",
     "text": [
      "(array([0, 1, 4]),)\n",
      "(array([0, 1, 4]),)\n"
     ]
    }
   ],
   "source": [
    "# Task-10: Find indices of non-zero elements from [1,2,0,0,4,0]\n",
    "\n",
    "n = [1, 2, 0, 0, 4, 0]\n",
    "ar = np.array(n)\n",
    "print(np.nonzero(ar))\n",
    "\n",
    "arr = np.nonzero(ar)\n",
    "print(arr) # returns an array "
   ]
  },
  {
   "cell_type": "code",
   "execution_count": 60,
   "id": "43e7be51-9a60-42ce-b6f2-57be4215c044",
   "metadata": {},
   "outputs": [
    {
     "name": "stdout",
     "output_type": "stream",
     "text": [
      "[[1. 0. 0.]\n",
      " [0. 1. 0.]\n",
      " [0. 0. 1.]]\n"
     ]
    }
   ],
   "source": [
    "# Task-11:  Create a 3x3 identity matrix\n",
    "\n",
    "mat3 = np.identity(3)\n",
    "print(mat3)"
   ]
  },
  {
   "cell_type": "code",
   "execution_count": 73,
   "id": "9b51264b-61f9-486c-83b2-f7c132da12f7",
   "metadata": {},
   "outputs": [
    {
     "name": "stdout",
     "output_type": "stream",
     "text": [
      "[[[0.22064621 0.47872018 0.15970047]\n",
      "  [0.55639413 0.06942469 0.80018875]\n",
      "  [0.64647702 0.24030178 0.23355133]]\n",
      "\n",
      " [[0.35067639 0.12760453 0.61660264]\n",
      "  [0.30762343 0.0728049  0.14968681]\n",
      "  [0.78542346 0.70308522 0.55277172]]\n",
      "\n",
      " [[0.56239501 0.93079443 0.28194152]\n",
      "  [0.13388306 0.01679979 0.20248863]\n",
      "  [0.99620258 0.42499686 0.70400207]]]\n",
      "[0.24735474 0.5173422  0.47559791 0.62343204 0.37668649 0.72278643\n",
      " 0.35382326 0.49230934 0.71117367 0.34349689 0.43741105 0.16261008\n",
      " 0.64136639 0.53787619 0.12955945 0.58815844 0.85673945 0.00799241\n",
      " 0.07889793 0.73865568 0.48504191 0.51891287 0.72913345 0.37323082\n",
      " 0.17824644 0.74651182 0.746583  ]\n",
      "[[[0.24735474 0.5173422  0.47559791]\n",
      "  [0.62343204 0.37668649 0.72278643]\n",
      "  [0.35382326 0.49230934 0.71117367]]\n",
      "\n",
      " [[0.34349689 0.43741105 0.16261008]\n",
      "  [0.64136639 0.53787619 0.12955945]\n",
      "  [0.58815844 0.85673945 0.00799241]]\n",
      "\n",
      " [[0.07889793 0.73865568 0.48504191]\n",
      "  [0.51891287 0.72913345 0.37323082]\n",
      "  [0.17824644 0.74651182 0.746583  ]]]\n"
     ]
    }
   ],
   "source": [
    "# Task-12: Create a 3x3x3 array with random values\n",
    "\n",
    "arr2 = np.random.random((3, 3, 3))\n",
    "print(arr2)\n",
    "\n",
    "arr3 = np.random.rand(27)\n",
    "print(arr3)\n",
    "arr3 = arr3.reshape(3, 3, 3)\n",
    "print(arr3)"
   ]
  },
  {
   "cell_type": "code",
   "execution_count": 77,
   "id": "a2185eb2-32ba-47ce-9bdf-7802e6fd8a05",
   "metadata": {},
   "outputs": [
    {
     "name": "stdout",
     "output_type": "stream",
     "text": [
      "[[0.68522109 0.41743215 0.90306076 0.60411315 0.03877926 0.5479959\n",
      "  0.8217681  0.4411219  0.85996966 0.87308692]\n",
      " [0.7078543  0.38976615 0.93681645 0.84572537 0.44638141 0.82892229\n",
      "  0.65342238 0.42644166 0.84458385 0.04724147]\n",
      " [0.87911209 0.16036097 0.97402725 0.6992948  0.07939635 0.89893315\n",
      "  0.03564741 0.34664375 0.0312041  0.37811925]\n",
      " [0.63403895 0.13635458 0.48498994 0.33303902 0.96648244 0.45456027\n",
      "  0.47490745 0.28201971 0.06638063 0.31831535]\n",
      " [0.69309353 0.08448497 0.45090492 0.81074499 0.8747237  0.52390332\n",
      "  0.7670974  0.32969208 0.67706353 0.40116171]\n",
      " [0.61459683 0.21682885 0.76875649 0.78847441 0.28873324 0.09188027\n",
      "  0.48064327 0.3682055  0.44268502 0.46050417]\n",
      " [0.62707294 0.58325034 0.5678847  0.37509474 0.79259021 0.03633991\n",
      "  0.26059318 0.4482628  0.24684267 0.9041349 ]\n",
      " [0.50606458 0.50062576 0.56289511 0.94020628 0.91166185 0.19661479\n",
      "  0.31830121 0.96402088 0.45696901 0.07774987]\n",
      " [0.94733919 0.12252312 0.59433817 0.45489574 0.96916876 0.72482165\n",
      "  0.23190213 0.67077669 0.10627295 0.49601239]\n",
      " [0.7980275  0.71578719 0.21468386 0.2500758  0.01950355 0.94587005\n",
      "  0.35184223 0.75046216 0.99481884 0.99074881]]\n",
      "0.019503549284088373 & 0.994818844077996\n",
      "0.019503549284088373 0.994818844077996\n"
     ]
    }
   ],
   "source": [
    "# Task-13: Create a 10x10 array with random values and find the minimum and maximum values\n",
    "\n",
    "arr = np.random.random((10, 10))\n",
    "print(arr)\n",
    "min_arr, max_arr = arr.min(), arr.max()\n",
    "print(str(min_arr) + \" & \" + str(max_arr))\n",
    "print(min_arr, max_arr)"
   ]
  },
  {
   "cell_type": "code",
   "execution_count": 81,
   "id": "1341b516-4054-4531-955b-347a1d9723e8",
   "metadata": {},
   "outputs": [
    {
     "name": "stdout",
     "output_type": "stream",
     "text": [
      "[0.47747945 0.55201135 0.84763947 0.29538306 0.34096254 0.21818831\n",
      " 0.75687132 0.85678692 0.85596964 0.59858525 0.06493934 0.58751075\n",
      " 0.84053039 0.90880526 0.87353739 0.93213327 0.76251945 0.79589293\n",
      " 0.82567038 0.92354888 0.01484339 0.94230413 0.67193989 0.86627819\n",
      " 0.31220413 0.32068923 0.49402029 0.95996691 0.82177359 0.77807832]\n",
      "[0.01484339 0.06493934 0.21818831 0.29538306 0.31220413 0.32068923\n",
      " 0.34096254 0.47747945 0.49402029 0.55201135 0.58751075 0.59858525\n",
      " 0.67193989 0.75687132 0.76251945 0.77807832 0.79589293 0.82177359\n",
      " 0.82567038 0.84053039 0.84763947 0.85596964 0.85678692 0.86627819\n",
      " 0.87353739 0.90880526 0.92354888 0.93213327 0.94230413 0.95996691]\n",
      "0.6499021138165635\n"
     ]
    }
   ],
   "source": [
    "# Task-14: Create a random vector of size 30 and find the mean value\n",
    "\n",
    "arr = np.random.random(30)\n",
    "print(arr)\n",
    "arr.sort()\n",
    "print(arr)\n",
    "mean = np.mean(arr)\n",
    "print(mean) # in 2D or above, the mean of axis can be got "
   ]
  },
  {
   "cell_type": "code",
   "execution_count": 83,
   "id": "154c2817-b12b-44e1-80cd-5ca0c6ba8d8c",
   "metadata": {},
   "outputs": [
    {
     "name": "stdout",
     "output_type": "stream",
     "text": [
      "[[1. 1. 1. 1. 1. 1. 1. 1. 1.]\n",
      " [1. 1. 1. 1. 1. 1. 1. 1. 1.]\n",
      " [1. 1. 1. 1. 1. 1. 1. 1. 1.]\n",
      " [1. 1. 1. 1. 1. 1. 1. 1. 1.]\n",
      " [1. 1. 1. 1. 1. 1. 1. 1. 1.]\n",
      " [1. 1. 1. 1. 1. 1. 1. 1. 1.]\n",
      " [1. 1. 1. 1. 1. 1. 1. 1. 1.]\n",
      " [1. 1. 1. 1. 1. 1. 1. 1. 1.]\n",
      " [1. 1. 1. 1. 1. 1. 1. 1. 1.]]\n",
      "[[1. 1. 1. 1. 1. 1. 1. 1. 1.]\n",
      " [1. 0. 0. 0. 0. 0. 0. 0. 1.]\n",
      " [1. 0. 0. 0. 0. 0. 0. 0. 1.]\n",
      " [1. 0. 0. 0. 0. 0. 0. 0. 1.]\n",
      " [1. 0. 0. 0. 0. 0. 0. 0. 1.]\n",
      " [1. 0. 0. 0. 0. 0. 0. 0. 1.]\n",
      " [1. 0. 0. 0. 0. 0. 0. 0. 1.]\n",
      " [1. 0. 0. 0. 0. 0. 0. 0. 1.]\n",
      " [1. 1. 1. 1. 1. 1. 1. 1. 1.]]\n"
     ]
    }
   ],
   "source": [
    "# Task-15: 15. Create a 2d array with 1 on the border and 0 inside\n",
    "\n",
    "arr = np.ones((9, 9))\n",
    "print(arr)\n",
    "arr[1:-1, 1:-1] = 0;\n",
    "print(arr)"
   ]
  },
  {
   "cell_type": "code",
   "execution_count": null,
   "id": "6027a752-8a21-40b7-b332-127b02c6507a",
   "metadata": {},
   "outputs": [],
   "source": []
  }
 ],
 "metadata": {
  "kernelspec": {
   "display_name": "Python 3",
   "language": "python",
   "name": "python3"
  },
  "language_info": {
   "codemirror_mode": {
    "name": "ipython",
    "version": 3
   },
   "file_extension": ".py",
   "mimetype": "text/x-python",
   "name": "python",
   "nbconvert_exporter": "python",
   "pygments_lexer": "ipython3",
   "version": "3.8.8"
  }
 },
 "nbformat": 4,
 "nbformat_minor": 5
}
