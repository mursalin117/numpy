{
 "cells": [
  {
   "cell_type": "code",
   "execution_count": 5,
   "id": "d944b021-c4af-4aea-9006-66c689468fc8",
   "metadata": {},
   "outputs": [],
   "source": [
    "import numpy as np\n"
   ]
  },
  {
   "cell_type": "code",
   "execution_count": 15,
   "id": "bb9af4a2-ae35-4dd5-a2ea-4384dbc4f2f9",
   "metadata": {},
   "outputs": [
    {
     "name": "stdout",
     "output_type": "stream",
     "text": [
      "[[6 2 1 5 6 4]\n",
      " [3 2 4 2 5 4]\n",
      " [7 8 6 3 2 6]\n",
      " [3 1 6 1 6 2]\n",
      " [6 1 6 6 2 6]\n",
      " [7 8 6 1 5 7]]\n",
      "[[0 0 0 0 0 0 0 0 0 0]\n",
      " [0 0 0 0 0 0 0 0 0 0]\n",
      " [0 0 6 2 1 5 6 4 0 0]\n",
      " [0 0 3 2 4 2 5 4 0 0]\n",
      " [0 0 7 8 6 3 2 6 0 0]\n",
      " [0 0 3 1 6 1 6 2 0 0]\n",
      " [0 0 6 1 6 6 2 6 0 0]\n",
      " [0 0 7 8 6 1 5 7 0 0]\n",
      " [0 0 0 0 0 0 0 0 0 0]\n",
      " [0 0 0 0 0 0 0 0 0 0]]\n"
     ]
    }
   ],
   "source": [
    "# Task-16: How to add a border (filled with 0's) around an existing array?\n",
    "\n",
    "arr = np.random.randint(1, 9, (6, 6))\n",
    "print(arr)\n",
    "\n",
    "arr = np.pad(arr, pad_width=2, mode='constant', constant_values=0)\n",
    "print(arr)"
   ]
  },
  {
   "cell_type": "code",
   "execution_count": 7,
   "id": "2cfa18da-d48e-4dc5-a8d5-2165c4565c5c",
   "metadata": {},
   "outputs": [
    {
     "name": "stdout",
     "output_type": "stream",
     "text": [
      "nan\n",
      "False\n",
      "False\n",
      "nan\n",
      "True\n",
      "False\n"
     ]
    }
   ],
   "source": [
    "# Task-17: What is the result of the following expression?\n",
    "# 0 * np.nan\n",
    "# np.nan == np.nan\n",
    "# np.inf > np.nan\n",
    "# np.nan - np.nan\n",
    "# np.nan in set([np.nan])\n",
    "# 0.3 == 3 * 0.1\n",
    "# nan = not a number, inf = infinite\n",
    "\n",
    "print(0 * np.nan) # nan\n",
    "print(np.nan == np.nan) # False\n",
    "print(np.inf > np.nan) # False\n",
    "print(np.nan - np.nan) # nan\n",
    "print(np.nan in set([np.nan])) # True\n",
    "print(0.3 == 3 * 0.1) # False\n"
   ]
  },
  {
   "cell_type": "code",
   "execution_count": 16,
   "id": "1d59875d-bd9b-4193-9050-61309fb6465a",
   "metadata": {},
   "outputs": [
    {
     "name": "stdout",
     "output_type": "stream",
     "text": [
      "[[0 0 0 0 0]\n",
      " [1 0 0 0 0]\n",
      " [0 2 0 0 0]\n",
      " [0 0 3 0 0]\n",
      " [0 0 0 4 0]]\n",
      "[[0 0 0 0 0]\n",
      " [1 0 0 0 0]\n",
      " [0 2 0 0 0]\n",
      " [0 0 3 0 0]\n",
      " [0 0 0 4 0]]\n"
     ]
    }
   ],
   "source": [
    "# Task-18: Create a 5x5 matrix with values 1,2,3,4 just below the diagonal\n",
    "\n",
    "a = np.diag(1 + np.arange(4), k = -1) # here for the value of 1-4, we take an 1D array using np.arange(), \n",
    "                                      #then k=-1 defines the 1st down diagonal\n",
    "print(a)\n",
    "\n",
    "ar = np.diag(np.arange(1, 5), k = -1)\n",
    "print(ar)"
   ]
  },
  {
   "cell_type": "code",
   "execution_count": 20,
   "id": "fbb6b867-36e9-49f5-adc8-54e29ce2e7e4",
   "metadata": {},
   "outputs": [
    {
     "name": "stdout",
     "output_type": "stream",
     "text": [
      "[[1 0 1 0 1 0 1 0]\n",
      " [0 1 0 1 0 1 0 1]\n",
      " [1 0 1 0 1 0 1 0]\n",
      " [0 1 0 1 0 1 0 1]\n",
      " [1 0 1 0 1 0 1 0]\n",
      " [0 1 0 1 0 1 0 1]\n",
      " [1 0 1 0 1 0 1 0]\n",
      " [0 1 0 1 0 1 0 1]]\n"
     ]
    }
   ],
   "source": [
    "# Task-19: Create a 8x8 matrix and fill it with a checkerboard pattern\n",
    "\n",
    "p = np.zeros((8, 8), dtype = int) # dtype = int, for integer datatype, else default datatype is double\n",
    "p[::2, ::2] = 1 # starting row and the rows same as the starting row\n",
    "p[1::2, 1::2] = 1 # the second row and the rows same as the second row\n",
    "print(p)"
   ]
  },
  {
   "cell_type": "code",
   "execution_count": 21,
   "id": "0b63a232-921b-4f8f-80da-fa4662fc2692",
   "metadata": {},
   "outputs": [
    {
     "name": "stdout",
     "output_type": "stream",
     "text": [
      "(1, 5, 3)\n",
      "(1, 5, 3)\n",
      "(3, 2, 2)\n"
     ]
    }
   ],
   "source": [
    "# Task-20: Consider a (6,7,8) shape array, what is the index (x,y,z) of the 100th element?\n",
    "\n",
    "print(np.unravel_index(99, (6, 7, 8)))\n",
    "print(np.unravel_index(99, (6, 7, 8), order = 'C')) # row wise\n",
    "print(np.unravel_index(99, (6, 7, 8), order = 'F')) # column wise"
   ]
  },
  {
   "cell_type": "code",
   "execution_count": null,
   "id": "79490dc5-4c60-48e5-87ba-58393844c372",
   "metadata": {},
   "outputs": [],
   "source": []
  }
 ],
 "metadata": {
  "kernelspec": {
   "display_name": "Python 3",
   "language": "python",
   "name": "python3"
  },
  "language_info": {
   "codemirror_mode": {
    "name": "ipython",
    "version": 3
   },
   "file_extension": ".py",
   "mimetype": "text/x-python",
   "name": "python",
   "nbconvert_exporter": "python",
   "pygments_lexer": "ipython3",
   "version": "3.8.8"
  }
 },
 "nbformat": 4,
 "nbformat_minor": 5
}
